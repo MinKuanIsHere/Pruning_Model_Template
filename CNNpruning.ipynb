{
 "cells": [
  {
   "cell_type": "code",
   "execution_count": 8,
   "metadata": {},
   "outputs": [
    {
     "name": "stdout",
     "output_type": "stream",
     "text": [
      "Epoch 1/4\n",
      "1688/1688 [==============================] - 6s 3ms/step - loss: 0.2911 - accuracy: 0.9174 - val_loss: 0.1154 - val_accuracy: 0.9698\n",
      "Epoch 2/4\n",
      "1688/1688 [==============================] - 13s 8ms/step - loss: 0.1102 - accuracy: 0.9679 - val_loss: 0.0832 - val_accuracy: 0.9788\n",
      "Epoch 3/4\n",
      "1688/1688 [==============================] - 17s 10ms/step - loss: 0.0804 - accuracy: 0.9762 - val_loss: 0.0703 - val_accuracy: 0.9807\n",
      "Epoch 4/4\n",
      "1688/1688 [==============================] - 17s 10ms/step - loss: 0.0668 - accuracy: 0.9804 - val_loss: 0.0654 - val_accuracy: 0.9825\n",
      "accuracy: 0.9775000214576721\n",
      "save as C:\\Users\\minku\\AppData\\Local\\Temp\\tmp9r6ig64x.h5\n"
     ]
    },
    {
     "name": "stderr",
     "output_type": "stream",
     "text": [
      "C:\\Users\\minku\\AppData\\Local\\Temp\\ipykernel_9408\\2636089171.py:30: UserWarning: You are saving your model as an HDF5 file via `model.save()`. This file format is considered legacy. We recommend using instead the native Keras format, e.g. `model.save('my_model.keras')`.\n",
      "  tf.keras.models.save_model(model, keras_file, include_optimizer=False)\n"
     ]
    }
   ],
   "source": [
    "import tempfile\n",
    "import os\n",
    "import tensorflow as tf\n",
    "import numpy as np\n",
    "from tensorflow import keras\n",
    "\n",
    "'''\n",
    "簡單CNN模型\n",
    "'''\n",
    "\n",
    "mnist = keras.datasets.mnist\n",
    "(train_images, train_labels), (test_images, test_labels) = mnist.load_data()\n",
    "train_images = train_images / 255.0\n",
    "test_images = test_images / 255.0\n",
    "model = keras.Sequential([\n",
    "    keras.layers.InputLayer(input_shape=(28,28)),\n",
    "    keras.layers.Reshape(target_shape=(28,28,1)),\n",
    "    keras.layers.Conv2D(filters=12, kernel_size=(3,3), activation='relu'),\n",
    "    keras.layers.MaxPooling2D(pool_size=(2,2)),\n",
    "    keras.layers.Flatten(),\n",
    "    keras.layers.Dense(10)\n",
    "])\n",
    "model.compile(optimizer='adam',\n",
    "                loss=tf.keras.losses.SparseCategoricalCrossentropy(from_logits=True),\n",
    "                metrics=['accuracy'])\n",
    "model.fit(train_images, train_labels, epochs=4, validation_split=0.1)\n",
    "_, baseline_model_accuracy = model.evaluate(test_images, test_labels, verbose=0)\n",
    "print('accuracy:', baseline_model_accuracy)\n",
    "_, keras_file = tempfile.mkstemp('.h5')\n",
    "tf.keras.models.save_model(model, keras_file, include_optimizer=False)\n",
    "print('save as', keras_file)"
   ]
  },
  {
   "cell_type": "code",
   "execution_count": 9,
   "metadata": {},
   "outputs": [
    {
     "name": "stdout",
     "output_type": "stream",
     "text": [
      "Epoch 1/2\n",
      "422/422 [==============================] - 19s 18ms/step - loss: 0.0861 - accuracy: 0.9760 - val_loss: 0.0977 - val_accuracy: 0.9750\n",
      "Epoch 2/2\n",
      "422/422 [==============================] - 7s 16ms/step - loss: 0.1058 - accuracy: 0.9701 - val_loss: 0.0893 - val_accuracy: 0.9763\n",
      "baseline accuracy: 0.9775000214576721\n",
      "pruning accuracy: 0.972599983215332\n"
     ]
    }
   ],
   "source": [
    "'''\n",
    "使用剪枝技術微調訓練好的模型\n",
    "'''\n",
    "import tensorflow_model_optimization as tfmot\n",
    "\n",
    "prune_low_magnitude = tfmot.sparsity.keras.prune_low_magnitude\n",
    "batch_size = 128\n",
    "epochs = 2\n",
    "validation_split = 0.1\n",
    "num_images = train_images.shape[0] * (1 - validation_split)\n",
    "end_step = np.ceil(num_images / batch_size).astype(np.int32) * epochs\n",
    "pruning_params = {\n",
    "    'pruning_schedule': tfmot.sparsity.keras.PolynomialDecay(initial_sparsity=0.50, final_sparsity=0.8, begin_step=0, end_step=end_step)\n",
    "}\n",
    "model_for_pruning = prune_low_magnitude(model, **pruning_params)\n",
    "model_for_pruning.compile(optimizer='adam', loss=tf.keras.losses.SparseCategoricalCrossentropy(from_logits=True), metrics=['accuracy'])\n",
    "callbacks = [\n",
    "    tfmot.sparsity.keras.UpdatePruningStep(),\n",
    "]\n",
    "model_for_pruning.fit(train_images, train_labels, batch_size=batch_size, epochs=epochs, validation_split=validation_split, callbacks=callbacks)\n",
    "_, model_for_pruning_accuracy = model_for_pruning.evaluate(test_images, test_labels, verbose=0)\n",
    "print('baseline accuracy:', baseline_model_accuracy) \n",
    "print('pruning accuracy:', model_for_pruning_accuracy)"
   ]
  },
  {
   "cell_type": "code",
   "execution_count": 12,
   "metadata": {},
   "outputs": [
    {
     "name": "stdout",
     "output_type": "stream",
     "text": [
      "WARNING:tensorflow:Compiled the loaded model, but the compiled metrics have yet to be built. `model.compile_metrics` will be empty until you train or evaluate the model.\n"
     ]
    },
    {
     "name": "stderr",
     "output_type": "stream",
     "text": [
      "C:\\Users\\minku\\AppData\\Local\\Temp\\ipykernel_9408\\4091028920.py:16: UserWarning: You are saving your model as an HDF5 file via `model.save()`. This file format is considered legacy. We recommend using instead the native Keras format, e.g. `model.save('my_model.keras')`.\n",
      "  tf.keras.models.save_model(model_for_export, pruned_keras_file, include_optimizer=False)\n",
      "WARNING:tensorflow:Compiled the loaded model, but the compiled metrics have yet to be built. `model.compile_metrics` will be empty until you train or evaluate the model.\n"
     ]
    },
    {
     "name": "stdout",
     "output_type": "stream",
     "text": [
      "Save pruned Keras model to: C:\\Users\\minku\\AppData\\Local\\Temp\\tmp91f0s6u7.h5\n",
      "INFO:tensorflow:Assets written to: C:\\Users\\minku\\AppData\\Local\\Temp\\tmpb1d1hqpi\\assets\n"
     ]
    },
    {
     "name": "stderr",
     "output_type": "stream",
     "text": [
      "INFO:tensorflow:Assets written to: C:\\Users\\minku\\AppData\\Local\\Temp\\tmpb1d1hqpi\\assets\n"
     ]
    },
    {
     "name": "stdout",
     "output_type": "stream",
     "text": [
      "Save pruned TFLite model to: C:\\Users\\minku\\AppData\\Local\\Temp\\tmpx54doxm2.tflite\n",
      "gzip baseline Keras model size: 78331.00 bytes\n",
      "gzip pruned Keras model size: 25867.00 bytes\n",
      "gzip pruned TFlite model size: 25073.00 bytes\n"
     ]
    }
   ],
   "source": [
    "'''\n",
    "使用剪枝技術將模型缩小3倍\n",
    "'''\n",
    "\n",
    "import os\n",
    "import zipfile\n",
    "\n",
    "def get_gzipped_model_size(file):\n",
    "    _, zipped_file = tempfile.mkstemp('.zip')\n",
    "    with zipfile.ZipFile(zipped_file, 'w', compression = zipfile.ZIP_DEFLATED) as f:\n",
    "        f.write(file)\n",
    "    return os.path.getsize(zipped_file)\n",
    "\n",
    "model_for_export = tfmot.sparsity.keras.strip_pruning(model_for_pruning)\n",
    "_, pruned_keras_file = tempfile.mkstemp('.h5')\n",
    "tf.keras.models.save_model(model_for_export, pruned_keras_file, include_optimizer=False)\n",
    "print('Save pruned Keras model to:', pruned_keras_file)\n",
    "converter = tf.lite.TFLiteConverter.from_keras_model(model_for_export)\n",
    "pruned_tflite_model = converter.convert()\n",
    "_, pruned_tflite_file = tempfile.mkstemp('.tflite')\n",
    "with open(pruned_tflite_file, 'wb') as f:\n",
    "    f.write(pruned_tflite_model)\n",
    "print('Save pruned TFLite model to:', pruned_tflite_file)\n",
    "\n",
    "print(\"gzip baseline Keras model size: %.2f bytes\" % (get_gzipped_model_size(keras_file))) #原始model\n",
    "print(\"gzip pruned Keras model size: %.2f bytes\" % (get_gzipped_model_size(pruned_keras_file))) #model after purning\n",
    "print(\"gzip pruned TFlite model size: %.2f bytes\" % (get_gzipped_model_size(pruned_tflite_file))) #TFlite type\n"
   ]
  },
  {
   "cell_type": "code",
   "execution_count": 13,
   "metadata": {},
   "outputs": [
    {
     "name": "stdout",
     "output_type": "stream",
     "text": [
      "INFO:tensorflow:Assets written to: C:\\Users\\minku\\AppData\\Local\\Temp\\tmp4mm4w9jk\\assets\n"
     ]
    },
    {
     "name": "stderr",
     "output_type": "stream",
     "text": [
      "INFO:tensorflow:Assets written to: C:\\Users\\minku\\AppData\\Local\\Temp\\tmp4mm4w9jk\\assets\n"
     ]
    },
    {
     "name": "stdout",
     "output_type": "stream",
     "text": [
      "quantized and pruned TFLite model save to: C:\\Users\\minku\\AppData\\Local\\Temp\\tmpnag810_9.tflite\n",
      "gzip baseline Keras model size: 78331.00 bytes\n",
      "gzipped quantized and pruned TFlite model size: 8254.00 bytes\n"
     ]
    }
   ],
   "source": [
    "'''\n",
    "使用剪枝和量化將模型缩小 10 倍\n",
    "'''\n",
    "converter = tf.lite.TFLiteConverter.from_keras_model(model_for_export)\n",
    "converter.optimizations = [tf.lite.Optimize.DEFAULT]\n",
    "quantized_and_pruned_tflite_model = converter.convert()\n",
    "_, quantized_and_pruned_tflite_file = tempfile.mkstemp('.tflite')\n",
    "with open(quantized_and_pruned_tflite_file, 'wb') as f:\n",
    "    f.write(quantized_and_pruned_tflite_model)\n",
    "print('quantized and pruned TFLite model save to:', quantized_and_pruned_tflite_file)\n",
    "print(\"gzip baseline Keras model size: %.2f bytes\" % (get_gzipped_model_size(keras_file)))\n",
    "print(\"gzipped quantized and pruned TFlite model size: %.2f bytes\" % (get_gzipped_model_size(quantized_and_pruned_tflite_file)))"
   ]
  }
 ],
 "metadata": {
  "kernelspec": {
   "display_name": "base",
   "language": "python",
   "name": "python3"
  },
  "language_info": {
   "codemirror_mode": {
    "name": "ipython",
    "version": 3
   },
   "file_extension": ".py",
   "mimetype": "text/x-python",
   "name": "python",
   "nbconvert_exporter": "python",
   "pygments_lexer": "ipython3",
   "version": "3.11.3"
  }
 },
 "nbformat": 4,
 "nbformat_minor": 2
}
